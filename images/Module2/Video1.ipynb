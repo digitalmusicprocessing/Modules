{
 "cells": [
  {
   "cell_type": "markdown",
   "id": "3bca711f",
   "metadata": {},
   "source": [
    "## linspace and arange"
   ]
  },
  {
   "cell_type": "code",
   "execution_count": null,
   "id": "619f86b9",
   "metadata": {},
   "outputs": [],
   "source": [
    "import numpy as np\n",
    "import matplotlib.pyplot as plt\n",
    "import IPython.display as ipd"
   ]
  },
  {
   "cell_type": "code",
   "execution_count": null,
   "id": "9e03332c",
   "metadata": {},
   "outputs": [],
   "source": [
    "## Generate 100 samples, equally spaced, starting at 0 and ending at 1\n",
    "x = np.arange(100)/99\n",
    "plt.plot(x)"
   ]
  },
  {
   "cell_type": "code",
   "execution_count": null,
   "id": "b58fe0d3",
   "metadata": {},
   "outputs": [],
   "source": [
    "print(x[0])\n",
    "print(x[-1])"
   ]
  },
  {
   "cell_type": "code",
   "execution_count": null,
   "id": "be157828",
   "metadata": {},
   "outputs": [],
   "source": [
    "x = np.linspace(0, 1, 100)\n",
    "plt.plot(x)\n",
    "print(x[0])\n",
    "print(x[-1])"
   ]
  },
  {
   "cell_type": "code",
   "execution_count": null,
   "id": "f6556b47",
   "metadata": {},
   "outputs": [],
   "source": [
    "## Ex) Take 32 equally spaced samples between -np.pi and np.pi\n",
    "x = np.linspace(-np.pi, np.pi, 32)\n",
    "plt.stem(x)"
   ]
  },
  {
   "cell_type": "code",
   "execution_count": null,
   "id": "fe229a63",
   "metadata": {},
   "outputs": [],
   "source": []
  }
 ],
 "metadata": {
  "kernelspec": {
   "display_name": "Python 3 (ipykernel)",
   "language": "python",
   "name": "python3"
  },
  "language_info": {
   "codemirror_mode": {
    "name": "ipython",
    "version": 3
   },
   "file_extension": ".py",
   "mimetype": "text/x-python",
   "name": "python",
   "nbconvert_exporter": "python",
   "pygments_lexer": "ipython3",
   "version": "3.9.13"
  }
 },
 "nbformat": 4,
 "nbformat_minor": 5
}
