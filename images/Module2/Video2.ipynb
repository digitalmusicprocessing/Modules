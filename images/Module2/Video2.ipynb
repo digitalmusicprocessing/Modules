{
 "cells": [
  {
   "cell_type": "markdown",
   "id": "716bbaf9",
   "metadata": {},
   "source": [
    "## Sinusoids"
   ]
  },
  {
   "cell_type": "code",
   "execution_count": null,
   "id": "8891af19",
   "metadata": {},
   "outputs": [],
   "source": [
    "import numpy as np\n",
    "import matplotlib.pyplot as plt\n",
    "import IPython.display as ipd"
   ]
  },
  {
   "cell_type": "markdown",
   "id": "fd76b863",
   "metadata": {},
   "source": [
    "## $ f(t) = \\sin(t), t \\in [0, 2 \\pi]$"
   ]
  },
  {
   "cell_type": "code",
   "execution_count": null,
   "id": "e8defb45",
   "metadata": {},
   "outputs": [],
   "source": [
    "t = np.linspace(0, 8*np.pi, 100)\n",
    "plt.plot(t, np.sin(t))\n",
    "plt.plot(t, np.cos(t))\n",
    "plt.xlabel(\"t (in radians)\")\n",
    "plt.legend([\"$\\sin(t)$\", \"$\\cos(t)$\"])"
   ]
  },
  {
   "cell_type": "markdown",
   "id": "d0ab765f",
   "metadata": {},
   "source": [
    "$ f(t) = A \\cos(2 \\pi f t + \\phi)$\n",
    "\n",
    "$ f(t) = A \\cos(\\frac{2 \\pi t}{T} + \\phi)$\n",
    "\n",
    "* A = amplitude\n",
    "* f = frequency (in hz, or cycles per second)\n",
    "* T = period = 1/f (the length of each repetition, in seconds)\n",
    "* t = time\n",
    "* $\\phi$ = the phase"
   ]
  },
  {
   "cell_type": "code",
   "execution_count": null,
   "id": "2647bc0e",
   "metadata": {},
   "outputs": [],
   "source": [
    "A = 1\n",
    "f = 3\n",
    "t = np.linspace(0, 5, 1000)\n",
    "phi = np.pi/3\n",
    "y = A*np.cos(2*np.pi*f*t + phi)\n",
    "plt.plot(t, y)\n",
    "plt.ylim([-5, 5])"
   ]
  },
  {
   "cell_type": "code",
   "execution_count": null,
   "id": "91b449cc",
   "metadata": {},
   "outputs": [],
   "source": [
    "sr = 44100\n",
    "f1 = 440\n",
    "f2 = 660\n",
    "t = np.arange(sr)/sr\n",
    "y = np.cos(2*np.pi*f1*t) #+ np.cos(2*np.pi*f2*t)\n",
    "ipd.Audio(y, rate=sr)"
   ]
  },
  {
   "cell_type": "code",
   "execution_count": null,
   "id": "9dbebecb",
   "metadata": {},
   "outputs": [],
   "source": [
    "# Sawtooth wave\n",
    "t = np.arange(sr)\n",
    "y = t % 100\n",
    "plt.plot(y[0:1000])\n",
    "ipd.Audio(y, rate=sr)"
   ]
  },
  {
   "cell_type": "code",
   "execution_count": null,
   "id": "48ce41a9",
   "metadata": {},
   "outputs": [],
   "source": [
    "## Formula for frequency of musical notes\n",
    "### Equal-tempered scale\n",
    "note  A, A#, B, C, C#, D, D#, E, F, F#, G, G#, A  A#\n",
    "p     0  1   2  3  4   5  6   7  8  9   10 11  12 13"
   ]
  },
  {
   "cell_type": "markdown",
   "id": "a173ccb1",
   "metadata": {},
   "source": [
    "## $f = 440 * 2^{p/12}$"
   ]
  },
  {
   "cell_type": "code",
   "execution_count": null,
   "id": "d6fd466c",
   "metadata": {},
   "outputs": [],
   "source": [
    "def get_note_freq(p):\n",
    "    return 440*2**(p/12)"
   ]
  },
  {
   "cell_type": "code",
   "execution_count": null,
   "id": "66ec0e17",
   "metadata": {},
   "outputs": [],
   "source": [
    "t = np.arange(int(sr/2))/sr\n",
    "f = get_note_freq(0)\n",
    "y = np.array([])\n",
    "for p in range(12):\n",
    "    f = get_note_freq(p)\n",
    "    y = np.concatenate((y, np.cos(2*np.pi*f*t)))\n",
    "ipd.Audio(y, rate=sr)"
   ]
  },
  {
   "cell_type": "code",
   "execution_count": null,
   "id": "e26d1c46",
   "metadata": {},
   "outputs": [],
   "source": []
  }
 ],
 "metadata": {
  "kernelspec": {
   "display_name": "Python 3 (ipykernel)",
   "language": "python",
   "name": "python3"
  },
  "language_info": {
   "codemirror_mode": {
    "name": "ipython",
    "version": 3
   },
   "file_extension": ".py",
   "mimetype": "text/x-python",
   "name": "python",
   "nbconvert_exporter": "python",
   "pygments_lexer": "ipython3",
   "version": "3.9.13"
  }
 },
 "nbformat": 4,
 "nbformat_minor": 5
}
